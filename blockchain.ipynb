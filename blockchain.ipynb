{
 "cells": [
  {
   "cell_type": "code",
   "execution_count": 1,
   "id": "c2715c30-1a02-46b7-85c4-88c90a4ee64b",
   "metadata": {},
   "outputs": [],
   "source": [
    "from Crypto.PublicKey import RSA\n",
    "from Crypto.Cipher import PKCS1_OAEP\n",
    "import binascii\n",
    "import hashlib\n",
    "import random"
   ]
  },
  {
   "cell_type": "markdown",
   "id": "05c9d385-551a-45a1-9e1e-0d45a8411c0b",
   "metadata": {},
   "source": [
    "# On genere les clefs de Alice et Bob\n",
    "\n",
    "chacun a une clef pour chiffrer et une pour déchiffrer, ils publient tous deux leur clef pour déchiffrer et gardent celle pour chiffrer secrete. \n"
   ]
  },
  {
   "cell_type": "code",
   "execution_count": 4,
   "id": "fc958ae2-0586-4c97-b0e0-05f88d99ffb3",
   "metadata": {},
   "outputs": [],
   "source": [
    "alice_key = RSA.generate(1024)\n",
    "bob_key = RSA.generate(1024)"
   ]
  },
  {
   "cell_type": "code",
   "execution_count": 5,
   "id": "a48c63f0-9929-43bc-956a-e29b289c41c2",
   "metadata": {},
   "outputs": [],
   "source": [
    "#print(alice_key.publickey)\n",
    "#print('\\n')\n",
    "#print(bob_key.publickey)"
   ]
  },
  {
   "cell_type": "markdown",
   "id": "a940a547-5725-480a-b23a-ea6b90a339ab",
   "metadata": {},
   "source": [
    "## On creer maintenant le block 1\n",
    "\n",
    "dans celui ci on affecte arbitrairement 10 à Bob et 10 à Alice"
   ]
  },
  {
   "cell_type": "code",
   "execution_count": 7,
   "id": "005c5d90-94b1-40a5-ae75-789192fe2f1f",
   "metadata": {},
   "outputs": [],
   "source": [
    "block_0 = open('block_0','w')\n",
    "block_0.write('alice, 10, btc\\nbob, 10, btc')\n",
    "block_0.close()"
   ]
  },
  {
   "cell_type": "markdown",
   "id": "af9e14b2-0bf2-407f-8197-3edbdee532f2",
   "metadata": {},
   "source": [
    "# les premières transaction sont émises puis signées par les deux parties "
   ]
  },
  {
   "cell_type": "code",
   "execution_count": 9,
   "id": "cf84322e-e161-434e-bf78-66b783c0a3f4",
   "metadata": {},
   "outputs": [],
   "source": [
    "transaction_1 = b'alice_send_10_to_bob'\n",
    "transaction_2 = b'bob_send_3_to_alice'\n",
    "\n",
    "encryptor = PKCS1_OAEP.new(alice_key)\n",
    "signed_t1 = encryptor.encrypt(transaction_1)\n",
    "signed_t2 = encryptor.encrypt(transaction_2)\n",
    "\n",
    "block_1 = open('block_1', 'w')\n",
    "block_1.write(str(transaction_1))\n",
    "block_1.write(',')\n",
    "block_1.write(str(signed_t1))\n",
    "block_1.write('\\n')\n",
    "block_1.write(str(transaction_2))\n",
    "block_1.write(',')\n",
    "block_1.write(str(signed_t2))\n",
    "block_1.write('\\n')\n",
    "block_1.close()\n",
    "\n"
   ]
  },
  {
   "cell_type": "markdown",
   "id": "44c55555-0e23-4df5-beaf-5d641b6411f9",
   "metadata": {},
   "source": [
    "# On passe maintenant au \"Minage\""
   ]
  },
  {
   "cell_type": "code",
   "execution_count": 10,
   "id": "22eb161b-3065-48d2-8fa4-2bb3c0033240",
   "metadata": {},
   "outputs": [],
   "source": [
    "def hash(filename) : \n",
    "    with open(filename,\"rb\") as f:\n",
    "        bytes = f.read() # read entire file as bytes\n",
    "        readable_hash = hashlib.sha256(bytes).hexdigest();\n",
    "        return(readable_hash)\n"
   ]
  },
  {
   "cell_type": "code",
   "execution_count": 11,
   "id": "427f520b-1acf-49ac-89d8-98563f74ad78",
   "metadata": {},
   "outputs": [
    {
     "name": "stdout",
     "output_type": "stream",
     "text": [
      "db2227e73cee912e39d3f2e2013107940055b02e3de55708998f4174341ae715\n",
      "d\n",
      "4cf6d938208823af766b8c10ccc2ad9a752fc0984b9991210e99c635712dec9d\n",
      "4\n",
      "65eaff0de74ba46f2e1f2f82dcebd3630278426d1a1b6e37b513caf5e63f5caf\n",
      "6\n",
      "f587f124f5f2d73d991c67cbb8b9628dc2e05f52210aa106685b3ae413950098\n",
      "f\n",
      "3c4123667e09c65de68cbee1c38f61dbb9fd81f2f68eebe74c0da55d13369094\n",
      "3\n",
      "d1872b7206b836b75285708118a8ab2a621ec39c37e3c52321a1b7928bd61385\n",
      "d\n",
      "0175160bcadf891518f6db09a1e018bcb36093409d331e7770115eca68c9dfff\n",
      "0\n"
     ]
    }
   ],
   "source": [
    "\n",
    "    \n",
    "while True :\n",
    "    block_1 = open('block_0', 'a')\n",
    "    block_1.write(str(random.random()))\n",
    "    block_1.close()\n",
    "    print(str(hash('block_0')))\n",
    "    h = str(hash('block_0'))[0]\n",
    "    print(h)\n",
    "    if h == '0':\n",
    "        ok = 1\n",
    "        break\n"
   ]
  },
  {
   "cell_type": "code",
   "execution_count": 12,
   "id": "a0002850-6395-494c-971a-272d89479bbe",
   "metadata": {},
   "outputs": [],
   "source": [
    "block_1 = open('block_1', 'a')\n",
    "block_1.write('\\n')\n",
    "block_1.write(str(hash('block_1')))\n",
    "block_1.close()\n"
   ]
  },
  {
   "cell_type": "markdown",
   "id": "87c5a6cc-ce16-4eff-b942-2cfc6c3f87a6",
   "metadata": {},
   "source": [
    "# Et le premier block est créé "
   ]
  }
 ],
 "metadata": {
  "kernelspec": {
   "display_name": "Python 3.9.7 64-bit",
   "language": "python",
   "name": "python397jvsc74a57bd0b0fa6594d8f4cbf19f97940f81e996739fb7646882a419484c72d19e05852a7e"
  },
  "language_info": {
   "codemirror_mode": {
    "name": "ipython",
    "version": 3
   },
   "file_extension": ".py",
   "mimetype": "text/x-python",
   "name": "python",
   "nbconvert_exporter": "python",
   "pygments_lexer": "ipython3",
   "version": "3.9.9"
  }
 },
 "nbformat": 4,
 "nbformat_minor": 5
}
